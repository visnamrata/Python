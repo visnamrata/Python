{
 "cells": [
  {
   "cell_type": "markdown",
   "metadata": {},
   "source": [
    "___\n",
    "\n",
    "<a href='https://www.udemy.com/user/joseportilla/'><img src='../Pierian_Data_Logo.png'/></a>\n",
    "___\n",
    "<center><em>Content Copyright by Pierian Data</em></center>"
   ]
  },
  {
   "cell_type": "markdown",
   "metadata": {},
   "source": [
    "# Guessing Game Challenge\n",
    "\n",
    "Let's use `while` loops to create a guessing game.\n",
    "\n",
    "The Challenge:\n",
    "\n",
    "Write a program that picks a random integer from 1 to 100, and has players guess the number. The rules are:\n",
    "\n",
    "1. If a player's guess is less than 1 or greater than 100, say \"OUT OF BOUNDS\"\n",
    "2. On a player's first turn, if their guess is\n",
    " * within 10 of the number, return \"WARM!\"\n",
    " * further than 10 away from the number, return \"COLD!\"\n",
    "3. On all subsequent turns, if a guess is \n",
    " * closer to the number than the previous guess return \"WARMER!\"\n",
    " * farther from the number than the previous guess, return \"COLDER!\"\n",
    "4. When the player's guess equals the number, tell them they've guessed correctly *and* how many guesses it took!\n",
    "\n",
    "You can try this from scratch, or follow the steps outlined below. A separate Solution notebook has been provided. Good luck!\n"
   ]
  },
  {
   "cell_type": "markdown",
   "metadata": {},
   "source": [
    "#### First, pick a random integer from 1 to 100 using the random module and assign it to a variable\n",
    "\n",
    "Note: `random.randint(a,b)` returns a random integer in range `[a, b]`, including both end points."
   ]
  },
  {
   "cell_type": "code",
   "execution_count": 1,
   "metadata": {
    "jupyter": {
     "outputs_hidden": true
    }
   },
   "outputs": [
    {
     "data": {
      "text/plain": [
       "18"
      ]
     },
     "execution_count": 1,
     "metadata": {},
     "output_type": "execute_result"
    }
   ],
   "source": [
    "import random\n",
    "actual_number=random.randint(1,100)\n",
    "actual_number"
   ]
  },
  {
   "cell_type": "markdown",
   "metadata": {},
   "source": [
    "#### Next, print an introduction to the game and explain the rules"
   ]
  },
  {
   "cell_type": "code",
   "execution_count": 2,
   "metadata": {
    "jupyter": {
     "outputs_hidden": true
    }
   },
   "outputs": [
    {
     "name": "stdout",
     "output_type": "stream",
     "text": [
      "If a player's guess is less than 1 or greater than 100, then \"OUT OF BOUNDS\" \n",
      "\n",
      "In a first turn,if the guess is:\n",
      " 1. within 10 of the number return \"WARM\" \n",
      " 2.further than 10 away from the number, return \"COLD!\" \n",
      "\n",
      "On all subsequent turns, if a guess is: \n",
      " 1. closer to the number than the previous guess return \"WARMER!\" \n",
      " 2. farther from the number than the previous guess, return \"COLDER!\" \n",
      "\n",
      "When the player's guess equals the number, tell them they've guessed correctly and how many guesses it took!\n"
     ]
    }
   ],
   "source": [
    "print(\"If a player's guess is less than 1 or greater than 100, then \\\"OUT OF BOUNDS\\\" \\n\")\n",
    "print(\"In a first turn,if the guess is:\\n 1. within 10 of the number return \\\"WARM\\\" \\n 2.further than 10 away from the number, return \\\"COLD!\\\" \\n\")\n",
    "print(\"On all subsequent turns, if a guess is: \\n 1. closer to the number than the previous guess return \\\"WARMER!\\\" \\n 2. farther from the number than the previous guess, return \\\"COLDER!\\\" \\n\")\n",
    "print(\"When the player's guess equals the number, tell them they've guessed correctly and how many guesses it took!\")\n"
   ]
  },
  {
   "cell_type": "markdown",
   "metadata": {},
   "source": [
    "#### Create a list to store guesses\n",
    "\n",
    "Hint: zero is a good placeholder value. It's useful because it evaluates to \"False\""
   ]
  },
  {
   "cell_type": "code",
   "execution_count": 3,
   "metadata": {
    "jupyter": {
     "outputs_hidden": true
    }
   },
   "outputs": [],
   "source": [
    "guess_list=[]"
   ]
  },
  {
   "cell_type": "markdown",
   "metadata": {},
   "source": [
    "#### Write a `while` loop that asks for a valid guess. Test it a few times to make sure it works."
   ]
  },
  {
   "cell_type": "code",
   "execution_count": 4,
   "metadata": {
    "jupyter": {
     "outputs_hidden": true
    }
   },
   "outputs": [],
   "source": [
    "#while True:\n",
    "   # guess_number=int(input(\"Let's Guess the number: \"))\n",
    "   # if (guess_number < 1 or guess_number > 100):\n",
    "       # print(\"SORRY! You are OUT OF BOUND\")\n",
    "    #    continue\n",
    "   # guess_list.append(guess_number)    \n",
    "    #break\n",
    "#guess_list      "
   ]
  },
  {
   "cell_type": "markdown",
   "metadata": {},
   "source": [
    "#### Write a `while` loop that compares the player's guess to our number. If the player guesses correctly, break from the loop. Otherwise, tell the player if they're warmer or colder, and continue asking for guesses.\n",
    "\n",
    "Some hints:\n",
    "* it may help to sketch out all possible combinations on paper first!\n",
    "* you can use the `abs()` function to find the positive difference between two numbers\n",
    "* if you append all new guesses to the list, then the previous guess is given as `guesses[-2]`"
   ]
  },
  {
   "cell_type": "code",
   "execution_count": 5,
   "metadata": {
    "jupyter": {
     "outputs_hidden": true
    }
   },
   "outputs": [
    {
     "name": "stdout",
     "output_type": "stream",
     "text": [
      "Let's Guess the number: 21\n",
      "WARM\n",
      "Let's Guess the number: 25\n",
      "COLDER\n",
      "Let's Guess the number: 18\n",
      "Congratulations You guesssed correctly after 2 guesses.\n",
      " YOU WON!\n"
     ]
    }
   ],
   "source": [
    "while True:\n",
    "\n",
    "    guess_number=int(input(\"Let's Guess the number: \"))\n",
    "    \n",
    "    if (guess_number < 1 or guess_number > 100):\n",
    "        print(\"SORRY! You are OUT OF BOUND\")\n",
    "        continue\n",
    "    guess_list.append(guess_number)\n",
    "    \n",
    "    if (guess_number==actual_number):\n",
    "        print(f\"Congratulations You guesssed correctly after {len(guess_list)-1} guesses.\\n YOU WON!\")\n",
    "        break\n",
    "        \n",
    "    if len(guess_list)!=1 and guess_list[-2]: \n",
    "        if abs(actual_number-guess_number)< abs(actual_number-guess_list[-2]):\n",
    "            print(\"WARMER\")\n",
    "        else:\n",
    "            print(\"COLDER\")\n",
    "    else:\n",
    "        if abs(actual_number-guess_number)<=10:\n",
    "            print(\"WARM\")\n",
    "        else:\n",
    "            print(\"COLD\")\n",
    "    \n",
    "    \n",
    "        "
   ]
  },
  {
   "cell_type": "code",
   "execution_count": 6,
   "metadata": {},
   "outputs": [
    {
     "data": {
      "text/plain": [
       "[21, 25, 18]"
      ]
     },
     "execution_count": 6,
     "metadata": {},
     "output_type": "execute_result"
    }
   ],
   "source": [
    "guess_list"
   ]
  },
  {
   "cell_type": "markdown",
   "metadata": {},
   "source": [
    "That's it! You've just programmed your first game!\n",
    "\n",
    "In the next section we'll learn how to turn some of these repetitive actions into *functions* that can be called whenever we need them."
   ]
  },
  {
   "cell_type": "markdown",
   "metadata": {},
   "source": [
    "### Good Job!"
   ]
  }
 ],
 "metadata": {
  "kernelspec": {
   "display_name": "Python 3",
   "language": "python",
   "name": "python3"
  },
  "language_info": {
   "codemirror_mode": {
    "name": "ipython",
    "version": 3
   },
   "file_extension": ".py",
   "mimetype": "text/x-python",
   "name": "python",
   "nbconvert_exporter": "python",
   "pygments_lexer": "ipython3",
   "version": "3.8.5"
  }
 },
 "nbformat": 4,
 "nbformat_minor": 4
}
