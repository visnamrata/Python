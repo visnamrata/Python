{
 "cells": [
  {
   "cell_type": "markdown",
   "metadata": {},
   "source": [
    "___\n",
    "\n",
    "<a href='https://www.udemy.com/user/joseportilla/'><img src='../Pierian_Data_Logo.png'/></a>\n",
    "___\n",
    "<center><em>Content Copyright by Pierian Data</em></center>"
   ]
  },
  {
   "cell_type": "markdown",
   "metadata": {},
   "source": [
    "# Milestone Project 1\n",
    "\n",
    "Here are the requirements:\n",
    "\n",
    "* 2 players should be able to play the game (both sitting at the same computer)\n",
    "* The board should be printed out every time a player makes a move\n",
    "* You should be able to accept input of the player position and then place a symbol on the board"
   ]
  },
  {
   "cell_type": "markdown",
   "metadata": {},
   "source": [
    "# Here is the code for TIC TAC TOE"
   ]
  },
  {
   "cell_type": "code",
   "execution_count": 1,
   "metadata": {},
   "outputs": [],
   "source": [
    "def board(binput):\n",
    "    print(binput['1'] + '|' + binput['2'] + '|' + binput['3'])\n",
    "    print (\"-----\")\n",
    "    print(binput['4'] + '|' + binput['5'] + '|' + binput['6'])\n",
    "    print (\"-----\")\n",
    "    print(binput['7'] + '|' + binput['8'] + '|' + binput['9'])\n",
    "    "
   ]
  },
  {
   "cell_type": "code",
   "execution_count": 2,
   "metadata": {},
   "outputs": [
    {
     "name": "stdout",
     "output_type": "stream",
     "text": [
      "INITIALLY BOARD LOOKS LIKE THIS WAY\n",
      " | | \n",
      "-----\n",
      " | | \n",
      "-----\n",
      " | | \n"
     ]
    }
   ],
   "source": [
    "boardinput={'1':' ','2':' ','3':' ','4':' ','5':' ','6':' ','7':' ','8':' ','9':' '}\n",
    "keyvalues=[]\n",
    "print(\"INITIALLY BOARD LOOKS LIKE THIS WAY\")\n",
    "board(boardinput)"
   ]
  },
  {
   "cell_type": "code",
   "execution_count": 3,
   "metadata": {},
   "outputs": [
    {
     "ename": "SyntaxError",
     "evalue": "'break' outside loop (<ipython-input-3-59039be5e9d0>, line 73)",
     "output_type": "error",
     "traceback": [
      "\u001b[1;36m  File \u001b[1;32m\"<ipython-input-3-59039be5e9d0>\"\u001b[1;36m, line \u001b[1;32m73\u001b[0m\n\u001b[1;31mSyntaxError\u001b[0m\u001b[1;31m:\u001b[0m 'break' outside loop\n"
     ]
    }
   ],
   "source": [
    "def tictac():\n",
    "    count=0\n",
    "    player=input(\"Enter input ('X' or '0'): \")\n",
    "    if player!='X' and player!='0':\n",
    "        print(\"--------INVALID INPUT--------\")\n",
    "        tictac()\n",
    "    \n",
    "    for keys in boardinput:\n",
    "        \n",
    "        if player=='X' or player=='0':\n",
    "            print(\"It's turn of \" +player +\". Tell which position you want to move?\")\n",
    "            move=input()\n",
    "            if boardinput[move]==' ':\n",
    "                boardinput[move]=player\n",
    "                count+=1\n",
    "                board(boardinput)\n",
    "            else:\n",
    "                print(\"This place is already filled. Choose another: \")\n",
    "                continue\n",
    "        else:\n",
    "            continue\n",
    "        if count>=5:\n",
    "            if boardinput['1']==boardinput['2']==boardinput['3']!=' ':\n",
    "                print(\"Congratulation \" + player + \" you won!\")\n",
    "                break\n",
    "            elif boardinput['1']==boardinput['5']==boardinput['9']!=' ':\n",
    "                print(\"Congratulation \" + player + \" you won!\")\n",
    "                break\n",
    "            elif boardinput['1']==boardinput['4']==boardinput['7']!=' ':\n",
    "                print(\"Congratulation \" + player + \" you won!\")\n",
    "                break\n",
    "            elif boardinput['3']==boardinput['5']==boardinput['7']!=' ':\n",
    "                print(\"Congratulation \" + player + \" you won!\")\n",
    "                break\n",
    "            elif boardinput['3']==boardinput['6']==boardinput['9']!=' ':\n",
    "                print(\"Congratulation \" + player + \" you won!\")  \n",
    "                break\n",
    "            elif boardinput['2']==boardinput['5']==boardinput['8']!=' ':\n",
    "                print(\"Congratulation \" + player + \" you won!\")\n",
    "                break\n",
    "            elif boardinput['4']==boardinput['5']==boardinput['6']!=' ':\n",
    "                print(\"Congratulation \" + player + \" you won!\")\n",
    "                break\n",
    "            elif boardinput['7']==boardinput['8']==boardinput['9']!=' ': \n",
    "                print(\"Congratulation \" + player + \" you won!\")\n",
    "                break\n",
    "        if count==9:\n",
    "            print(\"------------OOOPS IT'S A TIE--------------\")\n",
    "            break\n",
    "        if player=='X':\n",
    "            player='0'\n",
    "        else:\n",
    "            player='X'\n",
    "                \n",
    "    board_keys = []\n",
    "\n",
    "    for key in boardinput:\n",
    "        board_keys.append(key)\n",
    "    \n",
    "    \n",
    "    repeat=input(\"WANT TO PLAY AGAIN(Y OR N) ? \")\n",
    "    if repeat=='y' or repeat=='Y':\n",
    "        for key in board_keys:\n",
    "            boardinput[key] = \" \"\n",
    "        tictac()\n",
    "    else:\n",
    "        print(\"-------THANKS YOU FOR PLAYING. HOPE YOU ENJOYED-------\")"
   ]
  },
  {
   "cell_type": "code",
   "execution_count": 4,
   "metadata": {},
   "outputs": [
    {
     "name": "stdout",
     "output_type": "stream",
     "text": [
      "Let;'s Play! Your game starts here\n"
     ]
    },
    {
     "ename": "NameError",
     "evalue": "name 'tictac' is not defined",
     "output_type": "error",
     "traceback": [
      "\u001b[1;31m---------------------------------------------------------------------------\u001b[0m",
      "\u001b[1;31mNameError\u001b[0m                                 Traceback (most recent call last)",
      "\u001b[1;32m<ipython-input-4-a99bd00d51a9>\u001b[0m in \u001b[0;36m<module>\u001b[1;34m\u001b[0m\n\u001b[0;32m      1\u001b[0m \u001b[0mprint\u001b[0m \u001b[1;33m(\u001b[0m\u001b[1;34m\"Let;'s Play! Your game starts here\"\u001b[0m\u001b[1;33m)\u001b[0m\u001b[1;33m\u001b[0m\u001b[1;33m\u001b[0m\u001b[0m\n\u001b[1;32m----> 2\u001b[1;33m \u001b[0mtictac\u001b[0m\u001b[1;33m(\u001b[0m\u001b[1;33m)\u001b[0m\u001b[1;33m\u001b[0m\u001b[1;33m\u001b[0m\u001b[0m\n\u001b[0m",
      "\u001b[1;31mNameError\u001b[0m: name 'tictac' is not defined"
     ]
    }
   ],
   "source": [
    "print (\"Let;'s Play! Your game starts here\")\n",
    "tictac()"
   ]
  },
  {
   "cell_type": "code",
   "execution_count": null,
   "metadata": {},
   "outputs": [],
   "source": []
  }
 ],
 "metadata": {
  "kernelspec": {
   "display_name": "Python 3",
   "language": "python",
   "name": "python3"
  },
  "language_info": {
   "codemirror_mode": {
    "name": "ipython",
    "version": 3
   },
   "file_extension": ".py",
   "mimetype": "text/x-python",
   "name": "python",
   "nbconvert_exporter": "python",
   "pygments_lexer": "ipython3",
   "version": "3.7.4"
  }
 },
 "nbformat": 4,
 "nbformat_minor": 1
}
