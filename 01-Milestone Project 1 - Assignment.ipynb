{
 "cells": [
  {
   "cell_type": "markdown",
   "metadata": {},
   "source": [
    "___\n",
    "\n",
    "<a href='https://www.udemy.com/user/joseportilla/'><img src='../Pierian_Data_Logo.png'/></a>\n",
    "___\n",
    "<center><em>Content Copyright by Pierian Data</em></center>"
   ]
  },
  {
   "cell_type": "markdown",
   "metadata": {},
   "source": [
    "# Milestone Project 1\n",
    "## Congratulations on making it to your first milestone!\n",
    "You've already learned a ton and are ready to work on a real project.\n",
    "\n",
    "Your assignment: Create a Tic Tac Toe game. You are free to use any IDE you like.\n",
    "\n",
    "Here are the requirements:\n",
    "\n",
    "* 2 players should be able to play the game (both sitting at the same computer)\n",
    "* The board should be printed out every time a player makes a move\n",
    "* You should be able to accept input of the player position and then place a symbol on the board\n",
    "\n",
    "Feel free to use Google to help you figure anything out (but don't just Google \"Tic Tac Toe in Python\" otherwise you won't learn anything!) Keep in mind that this project can take anywhere between several hours to several days.\n",
    "\n",
    "There are 4 Jupyter Notebooks related to this assignment:\n",
    "\n",
    "* This Assignment Notebook\n",
    "* A \"Walkthrough Steps Workbook\" Notebook\n",
    "* A \"Complete Walkthrough Solution\" Notebook\n",
    "* An \"Advanced Solution\" Notebook\n",
    "\n",
    "I encourage you to just try to start the project on your own without referencing any of the notebooks. If you get stuck, check out the next lecture which is a text lecture with helpful hints and steps. If you're still stuck after that, then check out the Walkthrough Steps Workbook, which breaks up the project in steps for you to solve. Still stuck? Then check out the Complete Walkthrough Solution video for more help on approaching the project!"
   ]
  },
  {
   "cell_type": "markdown",
   "metadata": {},
   "source": [
    "There are parts of this that will be a struggle...and that is good! I have complete faith that if you have made it this far through the course you have all the tools and knowledge to tackle this project. Remember, it's totally open book, so take your time, do a little research, and remember:\n",
    "\n",
    "## HAVE FUN!"
   ]
  },
  {
   "cell_type": "code",
   "execution_count": 1,
   "metadata": {},
   "outputs": [],
   "source": [
    "def board(binput):\n",
    "    print(binput['1'] + '|' + binput['2'] + '|' + binput['3'])\n",
    "    print (\"-----\")\n",
    "    print(binput['4'] + '|' + binput['5'] + '|' + binput['6'])\n",
    "    print (\"-----\")\n",
    "    print(binput['7'] + '|' + binput['8'] + '|' + binput['9'])\n",
    "    "
   ]
  },
  {
   "cell_type": "code",
   "execution_count": 2,
   "metadata": {},
   "outputs": [
    {
     "name": "stdout",
     "output_type": "stream",
     "text": [
      "INITIALLY BOARD LOOKS LIKE THIS WAY\n",
      " | | \n",
      "-----\n",
      " | | \n",
      "-----\n",
      " | | \n"
     ]
    }
   ],
   "source": [
    "boardinput={'1':' ','2':' ','3':' ','4':' ','5':' ','6':' ','7':' ','8':' ','9':' '}\n",
    "print(\"INITIALLY BOARD LOOKS LIKE THIS WAY\")\n",
    "board(boardinput)"
   ]
  },
  {
   "cell_type": "code",
   "execution_count": 3,
   "metadata": {},
   "outputs": [],
   "source": [
    "def tictac():\n",
    "    count=0\n",
    "    player=input(\"Enter input ('X' or '0'): \")\n",
    "    for i in range(10):\n",
    "        \n",
    "        if player=='X' or player=='0':\n",
    "            print(\"It's turn of \" +player +\". Tell which position you want to move?\")\n",
    "            move=input()\n",
    "            if boardinput[move]==' ':\n",
    "                boardinput[move]=player\n",
    "                count+=1\n",
    "                board(boardinput)\n",
    "            else:\n",
    "                print(\"This place is already filled. Choose another: \")\n",
    "                continue\n",
    "        else:\n",
    "            continue\n",
    "        if count>=5:\n",
    "            if boardinput['1']==boardinput['2']==boardinput['3']:\n",
    "                print(\"Congratulation \" + player + \" you won!\")\n",
    "                break\n",
    "            elif boardinput['1']==boardinput['5']==boardinput['9']:\n",
    "                print(\"Congratulation \" + player + \" you won!\")\n",
    "                break\n",
    "            elif boardinput['1']==boardinput['4']==boardinput['7']:\n",
    "                print(\"Congratulation \" + player + \" you won!\")\n",
    "                break\n",
    "            elif boardinput['3']==boardinput['5']==boardinput['7']:\n",
    "                print(\"Congratulation \" + player + \" you won!\")\n",
    "                break\n",
    "            elif boardinput['3']==boardinput['6']==boardinput['9']:\n",
    "                print(\"Congratulation \" + player + \" you won!\")  \n",
    "                break\n",
    "            elif boardinput['2']==boardinput['5']==boardinput['8']:\n",
    "                print(\"Congratulation \" + player + \" you won!\")\n",
    "                break\n",
    "            elif boardinput['4']==boardinput['5']==boardinput['6']:\n",
    "                print(\"Congratulation \" + player + \" you won!\")\n",
    "                break\n",
    "            elif boardinput['7']==boardinput['8']==boardinput['9']: \n",
    "                print(\"Congratulation \" + player + \" you won!\")\n",
    "                break\n",
    "        if count==9:\n",
    "            print(\"------------OOOPS IT'S A TIE--------------\")\n",
    "            break\n",
    "        if player=='X':\n",
    "            player='0'\n",
    "        else:\n",
    "            player='X'\n",
    "                \n",
    "        \n",
    "    repeat=input(\"WANT TO PLAY AGAIN(Y OR N) ? \")\n",
    "    if repeat=='y' or repeat=='Y':\n",
    "        for key in boardinput:\n",
    "            boardinput[key]==' '\n",
    "        tictac()"
   ]
  },
  {
   "cell_type": "code",
   "execution_count": null,
   "metadata": {},
   "outputs": [
    {
     "name": "stdout",
     "output_type": "stream",
     "text": [
      "Your game starts here\n",
      "Enter input ('X' or '0'): 0\n",
      "It's turn of 0. Tell which position you want to move?\n"
     ]
    }
   ],
   "source": [
    "print (\"Let;'s Play! Your game starts here\")\n",
    "tictac()"
   ]
  },
  {
   "cell_type": "code",
   "execution_count": null,
   "metadata": {},
   "outputs": [],
   "source": []
  }
 ],
 "metadata": {
  "kernelspec": {
   "display_name": "Python 3",
   "language": "python",
   "name": "python3"
  },
  "language_info": {
   "codemirror_mode": {
    "name": "ipython",
    "version": 3
   },
   "file_extension": ".py",
   "mimetype": "text/x-python",
   "name": "python",
   "nbconvert_exporter": "python",
   "pygments_lexer": "ipython3",
   "version": "3.7.4"
  }
 },
 "nbformat": 4,
 "nbformat_minor": 1
}
